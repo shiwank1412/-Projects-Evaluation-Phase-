{
 "cells": [
  {
   "cell_type": "code",
   "execution_count": 7,
   "id": "1a955df2",
   "metadata": {},
   "outputs": [
    {
     "data": {
      "text/html": [
       "        <script type=\"text/javascript\">\n",
       "        window.PlotlyConfig = {MathJaxConfig: 'local'};\n",
       "        if (window.MathJax && window.MathJax.Hub && window.MathJax.Hub.Config) {window.MathJax.Hub.Config({SVG: {font: \"STIX-Web\"}});}\n",
       "        if (typeof require !== 'undefined') {\n",
       "        require.undef(\"plotly\");\n",
       "        requirejs.config({\n",
       "            paths: {\n",
       "                'plotly': ['https://cdn.plot.ly/plotly-2.12.1.min']\n",
       "            }\n",
       "        });\n",
       "        require(['plotly'], function(Plotly) {\n",
       "            window._Plotly = Plotly;\n",
       "        });\n",
       "        }\n",
       "        </script>\n",
       "        "
      ]
     },
     "metadata": {},
     "output_type": "display_data"
    }
   ],
   "source": [
    "import matplotlib.pyplot as plt \n",
    "import seaborn as sns\n",
    "import plotly.express as px\n",
    "from plotly.offline import init_notebook_mode, iplot\n",
    "init_notebook_mode(connected=True)"
   ]
  },
  {
   "cell_type": "code",
   "execution_count": 2,
   "id": "5173b84e",
   "metadata": {},
   "outputs": [],
   "source": [
    "from sklearn.model_selection import train_test_split # split the dataset\n",
    "from sklearn.preprocessing import Normalizer, StandardScaler, MinMaxScaler "
   ]
  },
  {
   "cell_type": "code",
   "execution_count": 3,
   "id": "5a5e880b",
   "metadata": {},
   "outputs": [],
   "source": [
    "from sklearn.linear_model import LinearRegression\n",
    "from sklearn.neighbors import KNeighborsRegressor\n",
    "from sklearn.tree import DecisionTreeRegressor\n",
    "from sklearn.ensemble import RandomForestRegressor\n",
    "from sklearn.svm import SVR "
   ]
  },
  {
   "cell_type": "code",
   "execution_count": 4,
   "id": "6fb68a1d",
   "metadata": {},
   "outputs": [],
   "source": [
    "from sklearn.metrics import mean_absolute_error, mean_squared_error, accuracy_score"
   ]
  },
  {
   "cell_type": "code",
   "execution_count": null,
   "id": "86727b4d",
   "metadata": {},
   "outputs": [],
   "source": [
    "df = pd.read_csv(r'../input/temperature-forecast-project-using-ml/temp.csv')\n",
    "df.shape\n",
    "pd.set_option('display.max_columns', 30)"
   ]
  },
  {
   "cell_type": "code",
   "execution_count": null,
   "id": "aa7fe02e",
   "metadata": {},
   "outputs": [],
   "source": [
    "data = df.copy()"
   ]
  },
  {
   "cell_type": "code",
   "execution_count": null,
   "id": "8e58d0bd",
   "metadata": {},
   "outputs": [],
   "source": [
    "data.info()"
   ]
  },
  {
   "cell_type": "raw",
   "id": "7a9add37",
   "metadata": {},
   "source": [
    "<class 'pandas.core.frame.DataFrame'>\n",
    "RangeIndex: 7752 entries, 0 to 7751\n",
    "Data columns (total 25 columns):\n",
    "   \n",
    "---  ------            --------------  -----  \n",
    " 0   station           7750 non-null   float64\n",
    " 1   Date              7750 non-null   object \n",
    " 2   Present_Tmax      7682 non-null   float64\n",
    " 3   Present_Tmin      7682 non-null   float64\n",
    " 4   LDAPS_RHmin       7677 non-null   float64\n",
    " 5   LDAPS_RHmax       7677 non-null   float64\n",
    " 6   LDAPS_Tmax_lapse  7677 non-null   float64\n",
    " 7   LDAPS_Tmin_lapse  7677 non-null   float64\n",
    " 8   LDAPS_WS          7677 non-null   float64\n",
    " 9   LDAPS_LH          7677 non-null   float64\n",
    " 10  LDAPS_CC1         7677 non-null   float64\n",
    " 11  LDAPS_CC2         7677 non-null   float64\n",
    " 12  LDAPS_CC3         7677 non-null   float64\n",
    " 13  LDAPS_CC4         7677 non-null   float64\n",
    " 14  LDAPS_PPT1        7677 non-null   float64\n",
    " 15  LDAPS_PPT2        7677 non-null   float64\n",
    " 16  LDAPS_PPT3        7677 non-null   float64\n",
    " 17  LDAPS_PPT4        7677 non-null   float64\n",
    " 18  lat               7752 non-null   float64\n",
    " 19  lon               7752 non-null   float64\n",
    " 20  DEM               7752 non-null   float64\n",
    " 21  Slope             7752 non-null   float64\n",
    " 22  Solar radiation   7752 non-null   float64\n",
    " 23  Next_Tmax         7725 non-null   float64\n",
    " 24  Next_Tmin         7725 non-null   float64\n",
    "dtypes: float64(24), object(1)\n",
    "memory usage: 1.5+ MB"
   ]
  },
  {
   "cell_type": "code",
   "execution_count": null,
   "id": "a6015178",
   "metadata": {},
   "outputs": [],
   "source": [
    "data.isna().sum()"
   ]
  },
  {
   "cell_type": "raw",
   "id": "bd1dea85",
   "metadata": {},
   "source": [
    "station              2\n",
    "Date                 2\n",
    "Present_Tmax        70\n",
    "Present_Tmin        70\n",
    "LDAPS_RHmin         75\n",
    "LDAPS_RHmax         75\n",
    "LDAPS_Tmax_lapse    75\n",
    "LDAPS_Tmin_lapse    75\n",
    "LDAPS_WS            75\n",
    "LDAPS_LH            75\n",
    "LDAPS_CC1           75\n",
    "LDAPS_CC2           75\n",
    "LDAPS_CC3           75\n",
    "LDAPS_CC4           75\n",
    "LDAPS_PPT1          75\n",
    "LDAPS_PPT2          75\n",
    "LDAPS_PPT3          75\n",
    "LDAPS_PPT4          75\n",
    "lat                  0\n",
    "lon                  0\n",
    "DEM                  0\n",
    "Slope                0\n",
    "Solar radiation      0\n",
    "Next_Tmax           27\n",
    "Next_Tmin           27\n",
    "dtype: int64"
   ]
  },
  {
   "cell_type": "code",
   "execution_count": null,
   "id": "75915821",
   "metadata": {},
   "outputs": [],
   "source": [
    "data['Date'][0].split('-')"
   ]
  },
  {
   "cell_type": "markdown",
   "id": "58203aa9",
   "metadata": {},
   "source": [
    "['30', '06', '2013']\n"
   ]
  },
  {
   "cell_type": "code",
   "execution_count": 5,
   "id": "66fef004",
   "metadata": {},
   "outputs": [],
   "source": [
    "list_of_year = []\n",
    "list_of_month = []\n",
    "list_of_day = []\n",
    "\n",
    "\n",
    "for i in data['Date']:\n",
    "    try :\n",
    "        split_obj = i.split('-')\n",
    "        list_of_year.append(split_obj[2])\n",
    "        list_of_month.append(split_obj[1])    \n",
    "        list_of_day.append(split_obj[0]) \n",
    "    except AttributeError:\n",
    "        list_of_year.append(np.nan)\n",
    "        list_of_month.append(np.nan)\n",
    "        list_of_day.append(np.nan)"
   ]
  },
  {
   "cell_type": "code",
   "execution_count": null,
   "id": "a00c1e19",
   "metadata": {},
   "outputs": [],
   "source": [
    "data['year'] = list_of_year\n",
    "data['month'] = list_of_month\n",
    "data['day'] = list_of_day"
   ]
  },
  {
   "cell_type": "code",
   "execution_count": null,
   "id": "1668cc04",
   "metadata": {},
   "outputs": [],
   "source": [
    "data['year'] = pd.to_numeric(data['year']) \n",
    "data['month'] = pd.to_numeric(data['month']) \n",
    "data['day'] = pd.to_numeric(data['day'])"
   ]
  },
  {
   "cell_type": "code",
   "execution_count": null,
   "id": "cdeb24cc",
   "metadata": {},
   "outputs": [],
   "source": [
    "data.drop('Date', axis=1, inplace=True)"
   ]
  },
  {
   "cell_type": "code",
   "execution_count": null,
   "id": "efc64401",
   "metadata": {},
   "outputs": [],
   "source": [
    "data.head()"
   ]
  },
  {
   "cell_type": "code",
   "execution_count": 8,
   "id": "30b35a68",
   "metadata": {},
   "outputs": [],
   "source": [
    "def plot_line(para):\n",
    "    df = data.groupby(by=para).mean().reset_index()\n",
    "    \n",
    "    fig = px.line(df, x=df[para], y=['Present_Tmax', 'Present_Tmin'])\n",
    "    fig.update_layout(template='plotly_dark')\n",
    "    return fig.show()"
   ]
  },
  {
   "cell_type": "code",
   "execution_count": null,
   "id": "b12c1f5a",
   "metadata": {},
   "outputs": [],
   "source": [
    "plot_line('day')"
   ]
  },
  {
   "cell_type": "code",
   "execution_count": null,
   "id": "efff4c29",
   "metadata": {},
   "outputs": [],
   "source": [
    "data.columns"
   ]
  },
  {
   "cell_type": "code",
   "execution_count": null,
   "id": "94cb23d4",
   "metadata": {},
   "outputs": [],
   "source": [
    "data.head()\n"
   ]
  },
  {
   "cell_type": "code",
   "execution_count": null,
   "id": "073564f7",
   "metadata": {},
   "outputs": [],
   "source": [
    "data.drop('station', axis=1, inplace=True)"
   ]
  },
  {
   "cell_type": "code",
   "execution_count": null,
   "id": "91005f24",
   "metadata": {},
   "outputs": [],
   "source": [
    "def treat_nan(df):\n",
    "    for i in df.columns:\n",
    "        df[i].fillna(df[i].mean(), inplace=True)"
   ]
  },
  {
   "cell_type": "code",
   "execution_count": null,
   "id": "2c879ffe",
   "metadata": {},
   "outputs": [],
   "source": [
    "treat_nan(data)"
   ]
  },
  {
   "cell_type": "code",
   "execution_count": null,
   "id": "ca4b6fb6",
   "metadata": {},
   "outputs": [],
   "source": [
    "data.head()"
   ]
  },
  {
   "cell_type": "code",
   "execution_count": null,
   "id": "c16b5db8",
   "metadata": {},
   "outputs": [],
   "source": [
    "X = data.drop(['Next_Tmax', 'Next_Tmin'], axis=1)\n",
    "y1 = data['Next_Tmax']\n",
    "y2 = data['Next_Tmin']"
   ]
  },
  {
   "cell_type": "code",
   "execution_count": null,
   "id": "f16af15a",
   "metadata": {},
   "outputs": [],
   "source": [
    "X.head()"
   ]
  },
  {
   "cell_type": "code",
   "execution_count": null,
   "id": "f1384a2a",
   "metadata": {},
   "outputs": [],
   "source": [
    "def normalizer(x_train, x_test):\n",
    "    scaler = Normalizer()\n",
    "    x_train = scaler.fit_transform(x_train)\n",
    "    x_test = scaler.fit_transform(x_test)\n",
    "    return x_train, x_test"
   ]
  },
  {
   "cell_type": "code",
   "execution_count": null,
   "id": "0dd840b3",
   "metadata": {},
   "outputs": [],
   "source": [
    "def minmax(x_train, x_test):\n",
    "    scaler = MinMaxScaler()\n",
    "    x_train = scaler.fit_transform(x_train)\n",
    "    x_test = scaler.fit_transform(x_test)\n",
    "    return x_train, x_test"
   ]
  },
  {
   "cell_type": "code",
   "execution_count": 12,
   "id": "3173ad34",
   "metadata": {},
   "outputs": [],
   "source": [
    "def stdscaler(x_train, x_test):\n",
    "    scaler = StandardScaler()\n",
    "    x_train = scaler.fit_transform(x_train)\n",
    "    x_test = scaler.fit_transform(x_test)\n",
    "    return x_train, x_test"
   ]
  },
  {
   "cell_type": "code",
   "execution_count": null,
   "id": "e42f116c",
   "metadata": {},
   "outputs": [],
   "source": [
    "def best_model(X, y, scaler, algo):\n",
    "    X_train, X_test, y_train, y_test = train_test_split(X, y, test_size=0.25, random_state=42, shuffle=True)\n",
    "\n",
    "    X_train = np.asarray(X_train)\n",
    "    X_test = np.asarray(X_test)\n",
    "\n",
    "    X_train, X_test = scaler(X_train, X_test)\n",
    "\n",
    "    model = algo()\n",
    "\n",
    "    model.fit(X_train, y_train)\n",
    "\n",
    "    predictions = model.predict(X_test)\n",
    "\n",
    "    mae = mean_absolute_error(predictions, y_test)\n",
    "    mse = mean_squared_error(predictions, y_test)\n",
    "\n",
    "    print(f'The MAE is {mean_absolute_error(predictions, y_test)}')\n",
    "    print(f'The MSE is {mean_squared_error(predictions, y_test)}')\n",
    "\n",
    "    fig = px.scatter(x=predictions, y=y_test, template='plotly_dark', title=f'Actual Productivity vs Predictions')\n",
    "    fig.update_traces(hovertemplate='Predicted Value : %{x} <br> Actual Value: %{y}')\n",
    "    fig.update_layout(hoverlabel=dict(\n",
    "        font_size = 20,\n",
    "        bgcolor = 'white', \n",
    "        font_family = 'Helvetica'\n",
    "    ))\n",
    "    fig.update_xaxes(title='Predicted Values', showgrid=False)\n",
    "    fig.update_yaxes(title='Actual Values', showgrid=False)\n",
    "\n",
    "    return predictions, y_test, mse, mae, fig.show()"
   ]
  },
  {
   "cell_type": "code",
   "execution_count": null,
   "id": "b0c92a2b",
   "metadata": {},
   "outputs": [],
   "source": [
    "list_of_target = [y1, y2]\n",
    "\n",
    "list_of_algos = [LinearRegression, KNeighborsRegressor, DecisionTreeRegressor, RandomForestRegressor, SVR]\n",
    "\n",
    "list_of_MAE = []\n",
    "list_of_MSE = []\n",
    "\n",
    "for i in list_of_algos:\n",
    "    print(f\"{i}\")\n",
    "    pred, y_test, mse, mae, plot = best_model(X, y1, normalizer, i)\n",
    "    list_of_MSE.append(mse)\n",
    "    list_of_MAE.append(mae)"
   ]
  },
  {
   "cell_type": "code",
   "execution_count": null,
   "id": "ad5a821c",
   "metadata": {},
   "outputs": [],
   "source": [
    "msemae_y1 = pd.DataFrame()\n",
    "msemae_y1['Algos'] =  ['LinearRegression', 'KNeighborsRegressor', 'DecisionTreeRegressor', 'RandomForestRegressor', 'SVR']\n",
    "msemae_y1['MSE_normalizer'] = list_of_MSE\n",
    "msemae_y1['MAE_normalizer'] = list_of_MAE "
   ]
  },
  {
   "cell_type": "code",
   "execution_count": null,
   "id": "21a07111",
   "metadata": {},
   "outputs": [],
   "source": [
    "msemae_y1.head()"
   ]
  },
  {
   "cell_type": "code",
   "execution_count": null,
   "id": "e84ae799",
   "metadata": {},
   "outputs": [],
   "source": [
    "list_of_MAE1 = []\n",
    "list_of_MSE1 = []\n",
    "\n",
    "for i in list_of_algos:\n",
    "    print(f\"{i}\")\n",
    "    pred, y_test, mse, mae, plot = best_model(X, y1, stdscaler, i)\n",
    "    list_of_MSE1.append(mse)\n",
    "    list_of_MAE1.append(mae)"
   ]
  },
  {
   "cell_type": "code",
   "execution_count": null,
   "id": "84041b95",
   "metadata": {},
   "outputs": [],
   "source": [
    "msemae_y1['MSE_stdscaler'] = list_of_MSE1\n",
    "msemae_y1['MAE_stdscaler'] = list_of_MAE1 "
   ]
  },
  {
   "cell_type": "code",
   "execution_count": null,
   "id": "9a329fce",
   "metadata": {},
   "outputs": [],
   "source": [
    "list_of_MAE2 = []\n",
    "list_of_MSE2 = []\n",
    "\n",
    "for i in list_of_algos:\n",
    "    print(f\"{i}\")\n",
    "    pred, y_test, mse, mae, plot = best_model(X, y1, minmax, i)\n",
    "    list_of_MSE2.append(mse)\n",
    "    list_of_MAE2.append(mae)"
   ]
  },
  {
   "cell_type": "code",
   "execution_count": null,
   "id": "79b047bd",
   "metadata": {},
   "outputs": [],
   "source": [
    "msemae_y1['MSE_minmax'] = list_of_MSE2\n",
    "msemae_y1['MAE_minmax'] = list_of_MAE2 "
   ]
  },
  {
   "cell_type": "code",
   "execution_count": null,
   "id": "04413393",
   "metadata": {},
   "outputs": [],
   "source": [
    "msemae_y1.head()"
   ]
  },
  {
   "cell_type": "code",
   "execution_count": null,
   "id": "0d829646",
   "metadata": {},
   "outputs": [],
   "source": [
    "list_of_algos = [LinearRegression, KNeighborsRegressor, DecisionTreeRegressor, RandomForestRegressor, SVR]\n",
    "\n",
    "list_of_MAE3 = []\n",
    "list_of_MSE3 = []\n",
    "\n",
    "for i in list_of_algos:\n",
    "    print(f\"{i}\")\n",
    "    pred, y_test, mse, mae, plot = best_model(X, y2, normalizer, i)\n",
    "    list_of_MSE3.append(mse)\n",
    "    list_of_MAE3.append(mae)"
   ]
  },
  {
   "cell_type": "code",
   "execution_count": null,
   "id": "a142c500",
   "metadata": {},
   "outputs": [],
   "source": [
    "msemae_y2 = pd.DataFrame()\n",
    "msemae_y2['Algos'] =  ['LinearRegression', 'KNeighborsRegressor', 'DecisionTreeRegressor', 'RandomForestRegressor', 'SVR']\n",
    "msemae_y2['MSE_normalizer'] = list_of_MSE3\n",
    "msemae_y2['MAE_normalizer'] = list_of_MAE3"
   ]
  },
  {
   "cell_type": "code",
   "execution_count": null,
   "id": "d0faa3ad",
   "metadata": {},
   "outputs": [],
   "source": [
    "list_of_MAE4 = []\n",
    "list_of_MSE4 = []\n",
    "\n",
    "for i in list_of_algos:\n",
    "    print(f\"{i}\")\n",
    "    pred, y_test, mse, mae, plot = best_model(X, y2, stdscaler, i)\n",
    "    list_of_MSE4.append(mse)\n",
    "    list_of_MAE4.append(mae)"
   ]
  },
  {
   "cell_type": "code",
   "execution_count": null,
   "id": "4f2c3a2b",
   "metadata": {},
   "outputs": [],
   "source": [
    "msemae_y2['MSE_stdscaler'] = list_of_MSE4\n",
    "msemae_y2['MAE_stdscaler'] = list_of_MAE4"
   ]
  },
  {
   "cell_type": "code",
   "execution_count": null,
   "id": "6cac0b2a",
   "metadata": {},
   "outputs": [],
   "source": [
    "list_of_MAE5 = []\n",
    "list_of_MSE5 = []\n",
    "\n",
    "for i in list_of_algos:\n",
    "    print(f\"{i}\")\n",
    "    pred, y_test, mse, mae, plot = best_model(X, y2, minmax, i)\n",
    "    list_of_MSE5.append(mse)\n",
    "    list_of_MAE5.append(mae)"
   ]
  },
  {
   "cell_type": "code",
   "execution_count": null,
   "id": "3b607d46",
   "metadata": {},
   "outputs": [],
   "source": [
    "msemae_y2['MSE_minmax'] = list_of_MSE5\n",
    "msemae_y2['MAE_minmax'] = list_of_MAE5"
   ]
  },
  {
   "cell_type": "code",
   "execution_count": null,
   "id": "a2ac46bb",
   "metadata": {},
   "outputs": [],
   "source": [
    "msemae_y2.head()"
   ]
  },
  {
   "cell_type": "code",
   "execution_count": null,
   "id": "7e7fcaba",
   "metadata": {},
   "outputs": [],
   "source": [
    "fig = px.bar(msemae_y2,  x='Algos', y=['MSE_normalizer', 'MAE_normalizer', 'MSE_stdscaler', 'MAE_stdscaler', 'MSE_minmax', 'MAE_minmax'], barmode='group')\n",
    "fig.update_layout(title='Representation of MAE and MSE values of different Algorithms on the Next Min Temperature', template='plotly_dark', hoverlabel=dict(\n",
    "    font_size=20,\n",
    "    font_family='Arial'\n",
    "))\n",
    "fig.update_traces(hovertemplate='%{x} : %{y}')\n",
    "fig.show()"
   ]
  }
 ],
 "metadata": {
  "kernelspec": {
   "display_name": "Python 3 (ipykernel)",
   "language": "python",
   "name": "python3"
  },
  "language_info": {
   "codemirror_mode": {
    "name": "ipython",
    "version": 3
   },
   "file_extension": ".py",
   "mimetype": "text/x-python",
   "name": "python",
   "nbconvert_exporter": "python",
   "pygments_lexer": "ipython3",
   "version": "3.10.9"
  }
 },
 "nbformat": 4,
 "nbformat_minor": 5
}
