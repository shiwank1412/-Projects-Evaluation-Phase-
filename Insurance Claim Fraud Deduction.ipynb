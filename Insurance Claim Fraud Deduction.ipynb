{
 "cells": [
  {
   "cell_type": "code",
   "execution_count": 1,
   "id": "01a236d5",
   "metadata": {},
   "outputs": [],
   "source": [
    "import pandas as pd\n",
    "from matplotlib import pyplot as plt\n",
    "import seaborn as sns\n",
    "from sklearn.ensemble import ExtraTreesRegressor\n",
    "from sklearn.preprocessing import LabelEncoder, StandardScaler\n",
    "from sklearn.model_selection import train_test_split\n",
    "import numpy as np\n",
    "import sklearn.metrics\n",
    "from pylab import rcParams\n",
    "%matplotlib inline\n",
    "pd.set_option('display.max_columns', 500)\n",
    "pd.set_option('display.max_rows', 500)"
   ]
  },
  {
   "cell_type": "code",
   "execution_count": null,
   "id": "9f21652c",
   "metadata": {},
   "outputs": [],
   "source": [
    "#load & view raw data\n",
    "df = pd.read_csv('insurance_claims.csv')\n",
    "df.head(10)"
   ]
  },
  {
   "cell_type": "code",
   "execution_count": null,
   "id": "a0a7f29c",
   "metadata": {},
   "outputs": [],
   "source": [
    "df.dtypes"
   ]
  },
  {
   "cell_type": "markdown",
   "id": "64f30fe9",
   "metadata": {},
   "source": [
    "months_as_customer               int64\n",
    "age                              int64\n",
    "policy_number                    int64\n",
    "policy_bind_date                object\n",
    "policy_state                    object\n",
    "policy_csl                      object\n",
    "policy_deductable                int64\n",
    "policy_annual_premium          float64\n",
    "umbrella_limit                   int64\n",
    "insured_zip                      int64\n",
    "insured_sex                     object\n",
    "insured_education_level         object\n",
    "insured_occupation              object\n",
    "insured_hobbies                 object\n",
    "insured_relationship            object\n",
    "capital-gains                    int64\n",
    "capital-loss                     int64\n",
    "incident_date                   object\n",
    "incident_type                   object\n",
    "collision_type                  object\n",
    "incident_severity               object\n",
    "authorities_contacted           object\n",
    "incident_state                  object\n",
    "incident_city                   object\n",
    "incident_location               object\n",
    "incident_hour_of_the_day         int64\n",
    "number_of_vehicles_involved      int64\n",
    "property_damage                 object\n",
    "bodily_injuries                  int64\n",
    "witnesses                        int64\n",
    "police_report_available         object\n",
    "total_claim_amount               int64\n",
    "injury_claim                     int64\n",
    "property_claim                   int64\n",
    "vehicle_claim                    int64\n",
    "auto_make                       object\n",
    "auto_model                      object\n",
    "auto_year                        int64\n",
    "fraud_reported                  object\n",
    "_c39                           float64\n",
    "dtype: object"
   ]
  },
  {
   "cell_type": "code",
   "execution_count": null,
   "id": "baa3a634",
   "metadata": {},
   "outputs": [],
   "source": [
    "df.columns"
   ]
  },
  {
   "cell_type": "raw",
   "id": "cec76dbd",
   "metadata": {},
   "source": [
    "Index(['months_as_customer', 'age', 'policy_number', 'policy_bind_date',\n",
    "       'policy_state', 'policy_csl', 'policy_deductable',\n",
    "       'policy_annual_premium', 'umbrella_limit', 'insured_zip', 'insured_sex',\n",
    "       'insured_education_level', 'insured_occupation', 'insured_hobbies',\n",
    "       'insured_relationship', 'capital-gains', 'capital-loss',\n",
    "       'incident_date', 'incident_type', 'collision_type', 'incident_severity',\n",
    "       'authorities_contacted', 'incident_state', 'incident_city',\n",
    "       'incident_location', 'incident_hour_of_the_day',\n",
    "       'number_of_vehicles_involved', 'property_damage', 'bodily_injuries',\n",
    "       'witnesses', 'police_report_available', 'total_claim_amount',\n",
    "       'injury_claim', 'property_claim', 'vehicle_claim', 'auto_make',\n",
    "       'auto_model', 'auto_year', 'fraud_reported', '_c39'],\n",
    "      dtype='object')"
   ]
  },
  {
   "cell_type": "code",
   "execution_count": null,
   "id": "5feb5333",
   "metadata": {},
   "outputs": [],
   "source": [
    "df.shape"
   ]
  },
  {
   "cell_type": "code",
   "execution_count": 4,
   "id": "7121557e",
   "metadata": {},
   "outputs": [
    {
     "data": {
      "text/plain": [
       "(1000, 40)"
      ]
     },
     "execution_count": 4,
     "metadata": {},
     "output_type": "execute_result"
    }
   ],
   "source": [
    "(1000, 40)"
   ]
  },
  {
   "cell_type": "code",
   "execution_count": null,
   "id": "ecf63fbb",
   "metadata": {},
   "outputs": [],
   "source": [
    "df.nunique()"
   ]
  },
  {
   "cell_type": "markdown",
   "id": "edca0b29",
   "metadata": {},
   "source": [
    "months_as_customer              391\n",
    "age                              46\n",
    "policy_number                  1000\n",
    "policy_bind_date                951\n",
    "policy_state                      3\n",
    "policy_csl                        3\n",
    "policy_deductable                 3\n",
    "policy_annual_premium           991\n",
    "umbrella_limit                   11\n",
    "insured_zip                     995\n",
    "insured_sex                       2\n",
    "insured_education_level           7\n",
    "insured_occupation               14\n",
    "insured_hobbies                  20\n",
    "insured_relationship              6\n",
    "capital-gains                   338\n",
    "capital-loss                    354\n",
    "incident_date                    60\n",
    "incident_type                     4\n",
    "collision_type                    4\n",
    "incident_severity                 4\n",
    "authorities_contacted             5\n",
    "incident_state                    7\n",
    "incident_city                     7\n",
    "incident_location              1000\n",
    "incident_hour_of_the_day         24\n",
    "number_of_vehicles_involved       4\n",
    "property_damage                   3\n",
    "bodily_injuries                   3\n",
    "witnesses                         4\n",
    "police_report_available           3\n",
    "total_claim_amount              763\n",
    "injury_claim                    638\n",
    "property_claim                  626\n",
    "vehicle_claim                   726\n",
    "auto_make                        14\n",
    "auto_model                       39\n",
    "auto_year                        21\n",
    "fraud_reported                    2\n",
    "_c39                              0\n",
    "dtype: int64\n"
   ]
  },
  {
   "cell_type": "code",
   "execution_count": null,
   "id": "3b71154a",
   "metadata": {},
   "outputs": [],
   "source": [
    "plt.style.use('fivethirtyeight')\n",
    "ax = sns.countplot(x='fraud_reported', data=df, hue='fraud_reported')"
   ]
  },
  {
   "cell_type": "code",
   "execution_count": null,
   "id": "02863e14",
   "metadata": {},
   "outputs": [],
   "source": [
    "df['fraud_reported'].value_counts() # Count number of frauds vs non-frauds"
   ]
  },
  {
   "cell_type": "markdown",
   "id": "6188db69",
   "metadata": {},
   "source": [
    "N    753\n",
    "Y    247\n",
    "Name: fraud_reported, dtype: int64"
   ]
  },
  {
   "cell_type": "code",
   "execution_count": null,
   "id": "ab528426",
   "metadata": {},
   "outputs": [],
   "source": [
    "df['incident_state'].value_counts()"
   ]
  },
  {
   "cell_type": "code",
   "execution_count": null,
   "id": "849c3ee9",
   "metadata": {},
   "outputs": [],
   "source": [
    "plt.style.use('fivethirtyeight')\n",
    "fig = plt.figure(figsize=(10,6))\n",
    "ax = df.groupby('incident_state').fraud_reported.count().plot.bar(ylim=0)\n",
    "ax.set_ylabel('Fraud reported')\n",
    "plt.show()"
   ]
  },
  {
   "cell_type": "code",
   "execution_count": null,
   "id": "d7c43456",
   "metadata": {},
   "outputs": [],
   "source": [
    "plt.rcParams['figure.figsize'] = [15, 8]\n",
    "ax= plt.style.use('fivethirtyeight')\n",
    "table=pd.crosstab(df.age, df.fraud_reported)\n",
    "table.div(table.sum(1).astype(float), axis=0).plot(kind='bar', stacked=True)\n",
    "plt.title('Stacked Bar Chart of Age vs Fraud Reported', fontsize=12)\n",
    "plt.xlabel('Age')\n",
    "plt.ylabel('Fraud reported')\n",
    "plt.show()"
   ]
  },
  {
   "cell_type": "code",
   "execution_count": null,
   "id": "72b0f5b6",
   "metadata": {},
   "outputs": [],
   "source": [
    "plt.style.use('fivethirtyeight')\n",
    "fig = plt.figure(figsize=(18,6))\n",
    "ax = df.groupby('incident_date').total_claim_amount.count().plot.bar(ylim=0)\n",
    "ax.set_ylabel('Claim amount ($)')\n",
    "plt.show()"
   ]
  },
  {
   "cell_type": "code",
   "execution_count": null,
   "id": "98e4437b",
   "metadata": {},
   "outputs": [],
   "source": [
    "plt.style.use('fivethirtyeight')\n",
    "fig = plt.figure(figsize=(10,6))\n",
    "ax = df.groupby('policy_state').fraud_reported.count().plot.bar(ylim=0)\n",
    "ax.set_ylabel('Fraud reported')\n",
    "plt.show()"
   ]
  },
  {
   "cell_type": "code",
   "execution_count": null,
   "id": "4beaa59b",
   "metadata": {},
   "outputs": [],
   "source": [
    "plt.rcParams['figure.figsize'] = [10, 6]\n",
    "ax= plt.style.use('fivethirtyeight')\n",
    "table=pd.crosstab(df.policy_state, df.fraud_reported)\n",
    "table.div(table.sum(1).astype(float), axis=0).plot(kind='bar', stacked=True)\n",
    "plt.title('Stacked Bar Chart of Policy State vs Fraud Reported', fontsize=12)\n",
    "plt.xlabel('Policy state')\n",
    "plt.ylabel('Fraud reported')\n",
    "plt.show()"
   ]
  },
  {
   "cell_type": "code",
   "execution_count": null,
   "id": "20c77482",
   "metadata": {},
   "outputs": [],
   "source": [
    "plt.style.use('fivethirtyeight')\n",
    "fig = plt.figure(figsize=(10,6))\n",
    "ax = df.groupby('incident_type').fraud_reported.count().plot.bar(ylim=0)\n",
    "ax.set_xticklabels(ax.get_xticklabels(), rotation=20, ha=\"right\")\n",
    "ax.set_ylabel('Fraud reported')\n",
    "plt.show()"
   ]
  },
  {
   "cell_type": "code",
   "execution_count": null,
   "id": "3935020c",
   "metadata": {},
   "outputs": [],
   "source": [
    "plt.style.use('fivethirtyeight')\n",
    "fig = plt.figure(figsize=(10,6))\n",
    "ax = sns.countplot(x='incident_state', data=df)"
   ]
  },
  {
   "cell_type": "code",
   "execution_count": null,
   "id": "01f8d555",
   "metadata": {},
   "outputs": [],
   "source": [
    "fig = plt.figure(figsize=(10,6))\n",
    "ax = sns.countplot(y = 'insured_education_level', data=df) \n",
    "ax.set_ylabel('policy_annual_premium')\n",
    "plt.show()\n",
    "\n",
    "# # Breakdown of Average Vehicle claim by insured's education level, grouped by fraud reported"
   ]
  },
  {
   "cell_type": "code",
   "execution_count": null,
   "id": "e7073a40",
   "metadata": {},
   "outputs": [],
   "source": [
    "plt.rcParams['figure.figsize'] = [10, 6]\n",
    "table=pd.crosstab(df.insured_education_level, df.fraud_reported)\n",
    "table.div(table.sum(1).astype(float), axis=0).plot(kind='bar', stacked=True)\n",
    "plt.title('Stacked Bar Chart of insured education vs Fraud reported', fontsize=12)\n",
    "plt.xlabel('Insured_education_level')\n",
    "plt.ylabel('Fraud reported')"
   ]
  },
  {
   "cell_type": "code",
   "execution_count": null,
   "id": "bcf42330",
   "metadata": {},
   "outputs": [],
   "source": [
    "ax = (df['insured_sex'].value_counts()*100.0 /len(df))\\\n",
    ".plot.pie(autopct='%.1f%%', labels = ['Male', 'Female'], fontsize=12)                                                                           \n",
    "ax.set_title('% Gender')\n",
    "plt.show()"
   ]
  },
  {
   "cell_type": "code",
   "execution_count": null,
   "id": "93d01e7b",
   "metadata": {},
   "outputs": [],
   "source": [
    "table=pd.crosstab(df.insured_sex, df.fraud_reported)\n",
    "table.div(table.sum(1).astype(float), axis=0).plot(kind='bar', stacked=True)\n",
    "plt.title('Stacked Bar Chart of insured_sex vs Fraud', fontsize=12)\n",
    "plt.xlabel('Insured_sex')\n",
    "plt.ylabel('Fraud reported')\n",
    "plt.show()"
   ]
  },
  {
   "cell_type": "code",
   "execution_count": null,
   "id": "9493f627",
   "metadata": {},
   "outputs": [],
   "source": [
    "ax = (df['insured_relationship'].value_counts()*100.0 /len(df))\\\n",
    ".plot.pie(autopct='%.1f%%', labels = ['husband', 'wife', 'own-child', 'unmarried', 'other-relative', 'not-in-family'],\n",
    "         fontsize=12)                                                                           \n",
    "ax.set_title('% Relationship')\n",
    "plt.show()"
   ]
  },
  {
   "cell_type": "code",
   "execution_count": null,
   "id": "2846f565",
   "metadata": {},
   "outputs": [],
   "source": [
    "table=pd.crosstab(df.insured_relationship, df.fraud_reported)\n",
    "table.div(table.sum(1).astype(float), axis=0).plot(kind='bar', stacked=True)\n",
    "plt.title('Stacked Bar Chart of insured_relationship vs Fraud', fontsize=12)\n",
    "plt.xlabel('insured_relationship')\n",
    "plt.ylabel('Fraud reported')\n",
    "plt.show()"
   ]
  },
  {
   "cell_type": "code",
   "execution_count": null,
   "id": "5f1c3c1e",
   "metadata": {},
   "outputs": [],
   "source": [
    "fig = plt.figure(figsize=(10,6))\n",
    "ax = (df['incident_type'].value_counts()*100.0 /len(df))\\\n",
    ".plot.pie(autopct='%.1f%%', labels = ['Parked Car', 'Single Vehile Collision', 'Multi-vehicle Collision', 'Vehicle Theft'],\n",
    "         fontsize=12) "
   ]
  },
  {
   "cell_type": "code",
   "execution_count": null,
   "id": "3cd4b7c6",
   "metadata": {},
   "outputs": [],
   "source": [
    "fig = plt.figure(figsize=(10,6))\n",
    "ax = (df['authorities_contacted'].value_counts()*100.0 /len(df))\\\n",
    ".plot.pie(autopct='%.1f%%', labels = ['Police', 'Fire', 'Other', 'None', 'Ambulance'],\n",
    "         fontsize=12) "
   ]
  },
  {
   "cell_type": "code",
   "execution_count": null,
   "id": "22bd8404",
   "metadata": {},
   "outputs": [],
   "source": [
    "fig = plt.figure(figsize=(10,6))\n",
    "ax = sns.countplot(x='auto_make', data=df)\n",
    "ax.set_xticklabels(ax.get_xticklabels(), rotation=40, ha=\"right\")\n",
    "plt.show()"
   ]
  },
  {
   "cell_type": "code",
   "execution_count": null,
   "id": "284c8d3c",
   "metadata": {},
   "outputs": [],
   "source": [
    "fig = plt.figure(figsize=(10,6))\n",
    "ax = (df['incident_severity'].value_counts()*100.0 /len(df))\\\n",
    ".plot.pie(autopct='%.1f%%', labels = ['Major Damage', 'Total Loss', 'Minor Damage', 'Trivial Damage'],\n",
    "         fontsize=12)  "
   ]
  },
  {
   "cell_type": "code",
   "execution_count": null,
   "id": "68937737",
   "metadata": {},
   "outputs": [],
   "source": [
    "fig = plt.figure(figsize=(10,6))\n",
    "ax = sns.countplot(x='insured_hobbies', data=df)\n",
    "ax.set_xticklabels(ax.get_xticklabels(), rotation=40, ha=\"right\")\n",
    "plt.show()\n"
   ]
  },
  {
   "cell_type": "code",
   "execution_count": null,
   "id": "5e88fa5f",
   "metadata": {},
   "outputs": [],
   "source": [
    "df[\"insured_occupation\"].value_counts()"
   ]
  },
  {
   "cell_type": "markdown",
   "id": "f323c894",
   "metadata": {},
   "source": [
    "machine-op-inspct    93\n",
    "prof-specialty       85\n",
    "tech-support         78\n",
    "sales                76\n",
    "exec-managerial      76\n",
    "craft-repair         74\n",
    "transport-moving     72\n",
    "priv-house-serv      71\n",
    "other-service        71\n",
    "armed-forces         69\n",
    "adm-clerical         65\n",
    "protective-serv      63\n",
    "handlers-cleaners    54\n",
    "farming-fishing      53\n",
    "Name: insured_occupation, dtype: int64"
   ]
  },
  {
   "cell_type": "code",
   "execution_count": null,
   "id": "47b4c430",
   "metadata": {},
   "outputs": [],
   "source": [
    "plt.style.use('fivethirtyeight')\n",
    "fig = plt.figure(figsize=(10,6))\n",
    "ax= df.groupby('auto_make').vehicle_claim.count().plot.bar(ylim=0)\n",
    "ax.set_ylabel('Vehicle claim')\n",
    "ax.set_xticklabels(ax.get_xticklabels(), rotation=40, ha=\"right\")\n",
    "plt.show()"
   ]
  },
  {
   "cell_type": "code",
   "execution_count": null,
   "id": "838497fd",
   "metadata": {},
   "outputs": [],
   "source": [
    "plt.style.use('fivethirtyeight')\n",
    "fig = plt.figure(figsize=(10,6))\n",
    "ax= df.groupby('insured_hobbies').total_claim_amount.count().plot.bar(ylim=0)\n",
    "ax.set_ylabel('Total claim amount')\n",
    "ax.set_xticklabels(ax.get_xticklabels(), rotation=40, ha=\"right\")\n",
    "plt.show()"
   ]
  },
  {
   "cell_type": "code",
   "execution_count": null,
   "id": "0692a2a8",
   "metadata": {},
   "outputs": [],
   "source": [
    "df['fraud_reported'].replace(to_replace='Y', value=1, inplace=True)\n",
    "df['fraud_reported'].replace(to_replace='N',  value=0, inplace=True)\n",
    "\n",
    "df.head()"
   ]
  },
  {
   "cell_type": "code",
   "execution_count": null,
   "id": "0ccc00ad",
   "metadata": {},
   "outputs": [],
   "source": [
    "df[['insured_zip']] = df[['insured_zip']].astype(object)"
   ]
  },
  {
   "cell_type": "code",
   "execution_count": null,
   "id": "0f059102",
   "metadata": {},
   "outputs": [],
   "source": [
    "df.describe()"
   ]
  },
  {
   "cell_type": "code",
   "execution_count": null,
   "id": "c4de0ab0",
   "metadata": {},
   "outputs": [],
   "source": [
    "df.describe(include='all')"
   ]
  },
  {
   "cell_type": "code",
   "execution_count": null,
   "id": "a170d4ac",
   "metadata": {},
   "outputs": [],
   "source": [
    "plt.style.use('fivethirtyeight')\n",
    "fig = plt.figure(figsize=(10,6))\n",
    "table=pd.crosstab(df.policy_csl, df.fraud_reported)\n",
    "table.div(table.sum(1).astype(float), axis=0).plot(kind='bar', stacked=True)\n",
    "plt.title('Stacked Bar Chart of policy_csl vs Fraud', fontsize=12)\n",
    "plt.xlabel('policy_csl')\n",
    "plt.ylabel('Fraud reported')\n",
    "plt.show()"
   ]
  },
  {
   "cell_type": "code",
   "execution_count": null,
   "id": "4faffc78",
   "metadata": {},
   "outputs": [],
   "source": [
    "df['csl_per_person'] = df.policy_csl.str.split('/', expand=True)[0]\n",
    "df['csl_per_accident'] = df.policy_csl.str.split('/', expand=True)[1]"
   ]
  },
  {
   "cell_type": "code",
   "execution_count": null,
   "id": "91482007",
   "metadata": {},
   "outputs": [],
   "source": [
    "df['csl_per_person'].head()"
   ]
  },
  {
   "cell_type": "code",
   "execution_count": null,
   "id": "48d2d645",
   "metadata": {},
   "outputs": [],
   "source": [
    "df['csl_per_accident'].head()"
   ]
  },
  {
   "cell_type": "code",
   "execution_count": null,
   "id": "e7bf7772",
   "metadata": {},
   "outputs": [],
   "source": [
    "df.auto_year.value_counts() "
   ]
  },
  {
   "cell_type": "code",
   "execution_count": null,
   "id": "a1cafdef",
   "metadata": {},
   "outputs": [],
   "source": [
    "df['vehicle_age'] = 2018 - df['auto_year'] # Deriving the age of the vehicle based on the year value \n",
    "df['vehicle_age'].head(10)"
   ]
  },
  {
   "cell_type": "code",
   "execution_count": null,
   "id": "a4f8280f",
   "metadata": {},
   "outputs": [],
   "source": [
    "bins = [-1, 3, 6, 9, 12, 17, 20, 24]  # Factorize according to the time period of the day.\n",
    "names = [\"past_midnight\", \"early_morning\", \"morning\", 'fore-noon', 'afternoon', 'evening', 'night']\n",
    "df['incident_period_of_day'] = pd.cut(df.incident_hour_of_the_day, bins, labels=names).astype(object)\n",
    "df[['incident_hour_of_the_day', 'incident_period_of_day']].head(20)"
   ]
  },
  {
   "cell_type": "code",
   "execution_count": null,
   "id": "306e2f7d",
   "metadata": {},
   "outputs": [],
   "source": [
    "# Check on categorical variables:\n",
    "df.select_dtypes(include=['object']).columns  # checking categorcial columns"
   ]
  },
  {
   "cell_type": "raw",
   "id": "62c581bd",
   "metadata": {},
   "source": [
    "Index(['policy_bind_date', 'policy_state', 'policy_csl', 'insured_zip',\n",
    "       'insured_sex', 'insured_education_level', 'insured_occupation',\n",
    "       'insured_hobbies', 'insured_relationship', 'incident_date',\n",
    "       'incident_type', 'collision_type', 'incident_severity',\n",
    "       'authorities_contacted', 'incident_state', 'incident_city',\n",
    "       'incident_location', 'property_damage', 'police_report_available',\n",
    "       'auto_make', 'auto_model', 'csl_per_person', 'csl_per_accident',\n",
    "       'incident_period_of_day'],\n",
    "      dtype='object')"
   ]
  },
  {
   "cell_type": "code",
   "execution_count": null,
   "id": "eebf583e",
   "metadata": {},
   "outputs": [],
   "source": [
    "# dropping unimportant columns\n",
    "\n",
    "df = df.drop(columns = [\n",
    "    'policy_number', \n",
    "    'policy_csl',\n",
    "    'insured_zip',\n",
    "    'policy_bind_date', \n",
    "    'incident_date', \n",
    "    'incident_location', \n",
    "    '_c39', \n",
    "    'auto_year', \n",
    "    'incident_hour_of_the_day'])\n",
    "\n",
    "df.head(2)"
   ]
  },
  {
   "cell_type": "code",
   "execution_count": null,
   "id": "05917e69",
   "metadata": {},
   "outputs": [],
   "source": [
    "# identify variables with '?' values\n",
    "unknowns = {}\n",
    "for i in list(df.columns):\n",
    "    if (df[i]).dtype == object:\n",
    "        j = np.sum(df[i] == \"?\")\n",
    "        unknowns[i] = j\n",
    "unknowns = pd.DataFrame.from_dict(unknowns, orient = 'index')\n",
    "print(unknowns)"
   ]
  },
  {
   "cell_type": "raw",
   "id": "b7d6ca10",
   "metadata": {},
   "source": [
    "policy_state               0\n",
    "insured_sex                0\n",
    "insured_education_level    0\n",
    "insured_occupation         0\n",
    "insured_hobbies            0\n",
    "insured_relationship       0\n",
    "incident_type              0\n",
    "collision_type           178\n",
    "incident_severity          0\n",
    "authorities_contacted      0\n",
    "incident_state             0\n",
    "incident_city              0\n",
    "property_damage          360\n",
    "police_report_available  343\n",
    "auto_make                  0\n",
    "auto_model                 0\n",
    "csl_per_person             0\n",
    "csl_per_accident           0\n",
    "incident_period_of_day     0"
   ]
  },
  {
   "cell_type": "code",
   "execution_count": null,
   "id": "3713c0b3",
   "metadata": {},
   "outputs": [],
   "source": [
    "df.collision_type.value_counts()"
   ]
  },
  {
   "cell_type": "markdown",
   "id": "acc0e42d",
   "metadata": {},
   "source": [
    "Rear Collision     292\n",
    "Side Collision     276\n",
    "Front Collision    254\n",
    "?                  178\n",
    "Name: collision_type, dtype: int64"
   ]
  },
  {
   "cell_type": "code",
   "execution_count": null,
   "id": "e5bf8e7b",
   "metadata": {},
   "outputs": [],
   "source": [
    "plt.style.use('fivethirtyeight')\n",
    "fig = plt.figure(figsize=(10,6))\n",
    "ax= df.groupby('collision_type').police_report_available.count().plot.bar(ylim=0)\n",
    "ax.set_ylabel('Police report')\n",
    "ax.set_xticklabels(ax.get_xticklabels(), rotation=10, ha=\"right\")\n",
    "plt.show()"
   ]
  },
  {
   "cell_type": "code",
   "execution_count": null,
   "id": "078906a4",
   "metadata": {},
   "outputs": [],
   "source": [
    "df.property_damage.value_counts()"
   ]
  },
  {
   "cell_type": "markdown",
   "id": "f5b252cb",
   "metadata": {},
   "source": [
    "?      360\n",
    "NO     338\n",
    "YES    302\n",
    "Name: property_damage, dtype: int64"
   ]
  },
  {
   "cell_type": "code",
   "execution_count": null,
   "id": "2527e75a",
   "metadata": {},
   "outputs": [],
   "source": [
    "plt.style.use('fivethirtyeight')\n",
    "fig = plt.figure(figsize=(10,6))\n",
    "ax= df.groupby('property_damage').police_report_available.count().plot.bar(ylim=0)\n",
    "ax.set_ylabel('Police report')\n",
    "ax.set_xticklabels(ax.get_xticklabels(), rotation=10, ha=\"right\")\n",
    "plt.show()"
   ]
  },
  {
   "cell_type": "code",
   "execution_count": null,
   "id": "64c3bd2f",
   "metadata": {},
   "outputs": [],
   "source": [
    "df.police_report_available.value_counts()"
   ]
  },
  {
   "cell_type": "markdown",
   "id": "cffbcfb0",
   "metadata": {},
   "source": [
    "NO     343\n",
    "?      343\n",
    "YES    314\n",
    "Name: police_report_available, dtype: int64"
   ]
  },
  {
   "cell_type": "code",
   "execution_count": null,
   "id": "850d1c8d",
   "metadata": {},
   "outputs": [],
   "source": [
    "df.columns"
   ]
  },
  {
   "cell_type": "raw",
   "id": "af7e376a",
   "metadata": {},
   "source": [
    "Index(['months_as_customer', 'age', 'policy_state', 'policy_deductable',\n",
    "       'policy_annual_premium', 'umbrella_limit', 'insured_sex',\n",
    "       'insured_education_level', 'insured_occupation', 'insured_hobbies',\n",
    "       'insured_relationship', 'capital-gains', 'capital-loss',\n",
    "       'incident_type', 'collision_type', 'incident_severity',\n",
    "       'authorities_contacted', 'incident_state', 'incident_city',\n",
    "       'number_of_vehicles_involved', 'property_damage', 'bodily_injuries',\n",
    "       'witnesses', 'police_report_available', 'total_claim_amount',\n",
    "       'injury_claim', 'property_claim', 'vehicle_claim', 'auto_make',\n",
    "       'auto_model', 'fraud_reported', 'csl_per_person', 'csl_per_accident',\n",
    "       'vehicle_age', 'incident_period_of_day'],\n",
    "      dtype='object')"
   ]
  },
  {
   "cell_type": "code",
   "execution_count": null,
   "id": "d08c1128",
   "metadata": {},
   "outputs": [],
   "source": [
    "df._get_numeric_data().head()  # Checking numeric columns"
   ]
  },
  {
   "cell_type": "code",
   "execution_count": null,
   "id": "90900bf3",
   "metadata": {},
   "outputs": [],
   "source": [
    "df._get_numeric_data().columns"
   ]
  },
  {
   "cell_type": "code",
   "execution_count": null,
   "id": "84a98b4f",
   "metadata": {},
   "outputs": [],
   "source": []
  },
  {
   "cell_type": "code",
   "execution_count": null,
   "id": "504ad83f",
   "metadata": {},
   "outputs": [],
   "source": []
  },
  {
   "cell_type": "raw",
   "id": "ee3c5b46",
   "metadata": {},
   "source": [
    "Index(['months_as_customer', 'age', 'policy_deductable',\n",
    "       'policy_annual_premium', 'umbrella_limit', 'capital-gains',\n",
    "       'capital-loss', 'number_of_vehicles_involved', 'bodily_injuries',\n",
    "       'witnesses', 'total_claim_amount', 'injury_claim', 'property_claim',\n",
    "       'vehicle_claim', 'fraud_reported', 'vehicle_age'],\n",
    "      dtype='object')"
   ]
  },
  {
   "cell_type": "code",
   "execution_count": null,
   "id": "6ec00cdb",
   "metadata": {},
   "outputs": [],
   "source": [
    "df.select_dtypes(include=['object']).columns  # checking categorcial columns"
   ]
  },
  {
   "cell_type": "raw",
   "id": "5663ad9d",
   "metadata": {},
   "source": [
    "Index(['policy_state', 'insured_sex', 'insured_education_level',\n",
    "       'insured_occupation', 'insured_hobbies', 'insured_relationship',\n",
    "       'incident_type', 'collision_type', 'incident_severity',\n",
    "       'authorities_contacted', 'incident_state', 'incident_city',\n",
    "       'property_damage', 'police_report_available', 'auto_make', 'auto_model',\n",
    "       'csl_per_person', 'csl_per_accident', 'incident_period_of_day'],\n",
    "      dtype='object')\n"
   ]
  },
  {
   "cell_type": "code",
   "execution_count": null,
   "id": "8718b273",
   "metadata": {},
   "outputs": [],
   "source": [
    "dummies = pd.get_dummies(df[[\n",
    "    'policy_state', \n",
    "    'insured_sex', \n",
    "    'insured_education_level',\n",
    "    'insured_occupation', \n",
    "    'insured_hobbies', \n",
    "    'insured_relationship',\n",
    "    'incident_type', \n",
    "    'incident_severity',\n",
    "    'authorities_contacted', \n",
    "    'incident_state', \n",
    "    'incident_city',\n",
    "    'auto_make', \n",
    "    'auto_model', \n",
    "    'csl_per_person', \n",
    "    'csl_per_accident',\n",
    "    'incident_period_of_day']])\n",
    "\n",
    "dummies = dummies.join(df[[\n",
    "    'collision_type', \n",
    "    'property_damage', \n",
    "    'police_report_available', \n",
    "    \"fraud_reported\"]])\n",
    "\n",
    "dummies.head()\n"
   ]
  },
  {
   "cell_type": "code",
   "execution_count": null,
   "id": "3a8b5fdb",
   "metadata": {},
   "outputs": [],
   "source": [
    "X = dummies.iloc[:, 0:-1]  # predictor variables\n",
    "y = dummies.iloc[:, -1]  # target variable"
   ]
  },
  {
   "cell_type": "code",
   "execution_count": null,
   "id": "cdbe8002",
   "metadata": {},
   "outputs": [],
   "source": [
    "len(X.columns)"
   ]
  },
  {
   "cell_type": "markdown",
   "id": "36053da3",
   "metadata": {},
   "source": [
    "148"
   ]
  },
  {
   "cell_type": "code",
   "execution_count": null,
   "id": "ee289207",
   "metadata": {},
   "outputs": [],
   "source": [
    "X.head(2)"
   ]
  },
  {
   "cell_type": "code",
   "execution_count": null,
   "id": "da7df3a5",
   "metadata": {},
   "outputs": [],
   "source": [
    "y.head()"
   ]
  },
  {
   "cell_type": "code",
   "execution_count": null,
   "id": "a8bf3943",
   "metadata": {},
   "outputs": [],
   "source": [
    "from sklearn.preprocessing import LabelEncoder\n",
    "X['collision_en'] = LabelEncoder().fit_transform(dummies['collision_type'])\n",
    "X[['collision_type', 'collision_en']]"
   ]
  },
  {
   "cell_type": "code",
   "execution_count": null,
   "id": "07730eac",
   "metadata": {},
   "outputs": [],
   "source": [
    "X['property_damage'].replace(to_replace='YES', value=1, inplace=True)\n",
    "X['property_damage'].replace(to_replace='NO', value=0, inplace=True)\n",
    "X['property_damage'].replace(to_replace='?', value=0, inplace=True)\n",
    "X['police_report_available'].replace(to_replace='YES', value=1, inplace=True)\n",
    "X['police_report_available'].replace(to_replace='NO', value=0, inplace=True)\n",
    "X['police_report_available'].replace(to_replace='?', value=0, inplace=True)\n",
    "\n",
    "X.head(10) "
   ]
  },
  {
   "cell_type": "code",
   "execution_count": null,
   "id": "ac50291e",
   "metadata": {},
   "outputs": [],
   "source": [
    "X = X.drop(columns = ['collision_type'])\n",
    "X.head(2)"
   ]
  },
  {
   "cell_type": "code",
   "execution_count": null,
   "id": "d14400f0",
   "metadata": {},
   "outputs": [],
   "source": [
    "X = pd.concat([X, df._get_numeric_data()], axis=1)  # joining numeric columns\n",
    "X.head(2)"
   ]
  },
  {
   "cell_type": "code",
   "execution_count": null,
   "id": "3b9c03e2",
   "metadata": {},
   "outputs": [],
   "source": [
    "X.columns"
   ]
  },
  {
   "cell_type": "raw",
   "id": "0bb7f88b",
   "metadata": {},
   "source": [
    "Index(['policy_state_IL', 'policy_state_IN', 'policy_state_OH',\n",
    "       'insured_sex_FEMALE', 'insured_sex_MALE',\n",
    "       'insured_education_level_Associate', 'insured_education_level_College',\n",
    "       'insured_education_level_High School', 'insured_education_level_JD',\n",
    "       'insured_education_level_MD',\n",
    "       ...\n",
    "       'capital-loss', 'number_of_vehicles_involved', 'bodily_injuries',\n",
    "       'witnesses', 'total_claim_amount', 'injury_claim', 'property_claim',\n",
    "       'vehicle_claim', 'fraud_reported', 'vehicle_age'],\n",
    "      dtype='object', length=164)"
   ]
  },
  {
   "cell_type": "code",
   "execution_count": null,
   "id": "57359250",
   "metadata": {},
   "outputs": [],
   "source": [
    "X = X.drop(columns = ['fraud_reported'])  # dropping target variable 'fraud_reported'\n",
    "X.columns"
   ]
  },
  {
   "cell_type": "raw",
   "id": "630d431e",
   "metadata": {},
   "source": [
    "Index(['policy_state_IL', 'policy_state_IN', 'policy_state_OH',\n",
    "       'insured_sex_FEMALE', 'insured_sex_MALE',\n",
    "       'insured_education_level_Associate', 'insured_education_level_College',\n",
    "       'insured_education_level_High School', 'insured_education_level_JD',\n",
    "       'insured_education_level_MD',\n",
    "       ...\n",
    "       'capital-gains', 'capital-loss', 'number_of_vehicles_involved',\n",
    "       'bodily_injuries', 'witnesses', 'total_claim_amount', 'injury_claim',\n",
    "       'property_claim', 'vehicle_claim', 'vehicle_age'],\n",
    "      dtype='object', length=163)"
   ]
  },
  {
   "cell_type": "code",
   "execution_count": null,
   "id": "602fecf3",
   "metadata": {},
   "outputs": [],
   "source": [
    "from sklearn.discriminant_analysis import LinearDiscriminantAnalysis\n",
    "from sklearn.model_selection import KFold\n",
    "from sklearn.model_selection import cross_val_score\n",
    "\n",
    "# evaluate an LDA model on the dataset using k-fold cross validation\n",
    "model = LinearDiscriminantAnalysis()\n",
    "kfold = KFold(n_splits=5, random_state=7)\n",
    "result = cross_val_score(model, X, y, cv=kfold, scoring='accuracy')\n",
    "print(result.mean())"
   ]
  },
  {
   "cell_type": "code",
   "execution_count": null,
   "id": "916b7532",
   "metadata": {},
   "outputs": [],
   "source": [
    "print(\"Accuracy: %0.2f (+/- %0.2f)\" % (result.mean(), result.std() * 2))"
   ]
  },
  {
   "cell_type": "markdown",
   "id": "4b680027",
   "metadata": {},
   "source": [
    "Accuracy: 0.84 (+/- 0.07)"
   ]
  },
  {
   "cell_type": "code",
   "execution_count": null,
   "id": "be57ca14",
   "metadata": {},
   "outputs": [],
   "source": [
    "from sklearn.model_selection import train_test_split\n",
    "X_train, X_test, y_train, y_test = train_test_split(X, y, train_size=0.8, random_state=7)\n",
    "print('length of X_train and X_test: ', len(X_train), len(X_test))\n",
    "print('length of y_train and y_test: ', len(y_train), len(y_test))"
   ]
  },
  {
   "cell_type": "code",
   "execution_count": null,
   "id": "2825f35b",
   "metadata": {},
   "outputs": [],
   "source": [
    "length of X_train and X_test:  800 200\n",
    "length of y_train and y_test:  800 200"
   ]
  },
  {
   "cell_type": "code",
   "execution_count": null,
   "id": "f3a80ba2",
   "metadata": {},
   "outputs": [],
   "source": [
    "from sklearn.ensemble import RandomForestClassifier\n",
    "from sklearn.metrics import accuracy_score, recall_score, classification_report, cohen_kappa_score\n",
    "from sklearn import metrics \n",
    "\n",
    "# Baseline Random forest based Model\n",
    "rfc = RandomForestClassifier(n_estimators=200)\n",
    "    \n",
    "kfold = KFold(n_splits=5, random_state=7)\n",
    "result2 = cross_val_score(rfc, X_train, y_train, cv=kfold, scoring='accuracy')\n",
    "print(result2.mean())"
   ]
  },
  {
   "cell_type": "markdown",
   "id": "f7361943",
   "metadata": {},
   "source": [
    "0.7737499999999999"
   ]
  },
  {
   "cell_type": "code",
   "execution_count": null,
   "id": "c9ae2d62",
   "metadata": {},
   "outputs": [],
   "source": [
    "# Generate a Histogram plot for anomaly detection\n",
    "plt.style.use('fivethirtyeight')\n",
    "plt.rcParams['figure.figsize'] = [15, 8]\n",
    "df.plot(kind='hist')\n",
    "plt.show()"
   ]
  },
  {
   "cell_type": "code",
   "execution_count": null,
   "id": "9c8f9af4",
   "metadata": {},
   "outputs": [],
   "source": [
    "plt.rcParams['figure.figsize'] = [5, 5]\n",
    "sns.boxplot(x=X.policy_annual_premium)\n",
    "plt.show()"
   ]
  },
  {
   "cell_type": "code",
   "execution_count": null,
   "id": "4083906a",
   "metadata": {},
   "outputs": [],
   "source": [
    "sns.boxplot(x=X.witnesses)\n",
    "plt.show()"
   ]
  },
  {
   "cell_type": "code",
   "execution_count": null,
   "id": "06b5ce76",
   "metadata": {},
   "outputs": [],
   "source": [
    "sns.boxplot(x=X.vehicle_age)\n",
    "plt.show()"
   ]
  },
  {
   "cell_type": "code",
   "execution_count": null,
   "id": "103dea8d",
   "metadata": {},
   "outputs": [],
   "source": [
    "from sklearn.preprocessing import StandardScaler\n",
    "scaler = StandardScaler(with_mean=False)\n",
    "X_train_scaled = scaler.fit_transform(X_train)\n",
    "X_test_scaled = scaler.transform(X_test)"
   ]
  },
  {
   "cell_type": "code",
   "execution_count": null,
   "id": "a8e0e9c2",
   "metadata": {},
   "outputs": [],
   "source": [
    "X_train_scaled"
   ]
  },
  {
   "cell_type": "code",
   "execution_count": null,
   "id": "f05ce78f",
   "metadata": {},
   "outputs": [],
   "source": [
    "X_train_scaled = pd.DataFrame(X_train_scaled, columns = X_train.columns) # retaining columns names\n",
    "X_train_scaled.head(2)"
   ]
  },
  {
   "cell_type": "code",
   "execution_count": null,
   "id": "79c7602b",
   "metadata": {},
   "outputs": [],
   "source": [
    "# Generate a Histogram plot on scaled data to check anomalies\n",
    "plt.rcParams['figure.figsize'] = [15, 8]\n",
    "X_train_scaled.plot(kind='hist')"
   ]
  },
  {
   "cell_type": "code",
   "execution_count": null,
   "id": "059c0d6c",
   "metadata": {},
   "outputs": [],
   "source": [
    "from sklearn.ensemble import AdaBoostClassifier, VotingClassifier\n",
    "from sklearn.naive_bayes import GaussianNB\n",
    "from sklearn import model_selection\n",
    "from sklearn.model_selection import KFold, cross_val_score\n",
    "from xgboost import XGBClassifier\n",
    "from sklearn.linear_model import LogisticRegressionCV\n",
    "from sklearn.tree import DecisionTreeClassifier\n",
    "from sklearn.neighbors import KNeighborsClassifier\n",
    "from sklearn.svm import SVC\n",
    "\n",
    "xgb = XGBClassifier()\n",
    "logreg= LogisticRegressionCV(solver='lbfgs', cv=10)\n",
    "knn = KNeighborsClassifier(5)\n",
    "svcl = SVC()\n",
    "adb = AdaBoostClassifier()\n",
    "dt = DecisionTreeClassifier(max_depth=5)\n",
    "rf = RandomForestClassifier()\n",
    "lda = LinearDiscriminantAnalysis()\n",
    "gnb = GaussianNB()\n",
    "\n",
    "# prepare configuration for cross validation test harness\n",
    "seed = 7\n",
    "# prepare models\n",
    "models = []\n",
    "models.append(('LR', LogisticRegressionCV(solver='lbfgs', max_iter=5000, cv=10)))\n",
    "models.append(('XGB', XGBClassifier()))\n",
    "models.append(('KNN', KNeighborsClassifier()))\n",
    "models.append(('DT', DecisionTreeClassifier()))\n",
    "models.append(('SVM', SVC(gamma='auto')))\n",
    "models.append(('RF', RandomForestClassifier(n_estimators=200)))\n",
    "models.append(('ADA', AdaBoostClassifier(n_estimators=200)))\n",
    "models.append(('LDA', LinearDiscriminantAnalysis()))\n",
    "models.append(('GNB', GaussianNB()))\n",
    "              \n",
    "# evaluate each model in turn\n",
    "results = []\n",
    "names = []\n",
    "scoring = 'accuracy'\n",
    "for name, model in models:\n",
    "    kfold = model_selection.KFold(n_splits=10, random_state=seed)\n",
    "    cv_results = model_selection.cross_val_score(model, x_train_scaled, y_train, cv=kfold, scoring=scoring)\n",
    "    results.append(cv_results)\n",
    "    names.append(name)\n",
    "    msg = \"%s: %f (%f)\" % (name, cv_results.mean(), cv_results.std())\n",
    "    print(msg)\n",
    "\n",
    "# boxplot algorithm comparison\n",
    "plt.rcParams['figure.figsize'] = [15, 8]              \n",
    "fig = plt.figure()\n",
    "fig.suptitle('Algorithm Comparison')\n",
    "ax = fig.add_subplot(111)\n",
    "plt.boxplot(results)\n",
    "ax.set_xticklabels(names)\n",
    "plt.show()"
   ]
  },
  {
   "cell_type": "markdown",
   "id": "b786be9b",
   "metadata": {},
   "source": [
    "LR: 0.826250 (0.034664)\n",
    "XGB: 0.828750 (0.023083)\n",
    "KNN: 0.735000 (0.055283)\n",
    "DT: 0.787500 (0.032596)\n",
    "SVM: 0.780000 (0.038810)\n",
    "RF: 0.785000 (0.045689)\n",
    "ADA: 0.797500 (0.036142)\n",
    "LDA: 0.840000 (0.029475)"
   ]
  },
  {
   "cell_type": "code",
   "execution_count": null,
   "id": "949b7271",
   "metadata": {},
   "outputs": [],
   "source": [
    "clf1= LogisticRegressionCV(solver='lbfgs', max_iter=5000, cv=10)\n",
    "clf2 = XGBClassifier() \n",
    "\n",
    "clf = [\n",
    "    ('LR', clf1), \n",
    "    ('XGB', clf2)] \n",
    "    \n",
    "#create our voting classifier, inputting our models\n",
    "eclf= VotingClassifier(estimators=[\n",
    "    ('LR', clf1), \n",
    "    ('XGB', clf2)], voting='hard')\n",
    "\n",
    "for clf, label in zip([clf1, clf2, eclf], [\n",
    "    'Logistic Regression', \n",
    "    'XGB Classifier',\n",
    "    'Ensemble']):\n",
    "    \n",
    "    scores = cross_val_score(clf, x_train_scaled, y_train, cv=10, scoring='accuracy')\n",
    "    print(\"Accuracy: %0.2f (+/- %0.2f) [%s]\" % (scores.mean(), scores.std(), label))"
   ]
  },
  {
   "cell_type": "raw",
   "id": "1772b44c",
   "metadata": {},
   "source": [
    "Accuracy: 0.83 (+/- 0.03) [Logistic Regression]\n",
    "Accuracy: 0.82 (+/- 0.03) [XGB Classifier]\n",
    "Accuracy: 0.81 (+/- 0.03) [Ensemble]"
   ]
  },
  {
   "cell_type": "code",
   "execution_count": null,
   "id": "de2a938c",
   "metadata": {},
   "outputs": [],
   "source": [
    "from numpy import sort\n",
    "from sklearn.feature_selection import SelectFromModel\n",
    "\n",
    "# fit model on all training data\n",
    "xgb = XGBClassifier()\n",
    "xgb.fit(x_train_scaled, y_train)\n",
    "\n",
    "# make predictions for test data and evaluate\n",
    "xgb_pred = xgb.predict(X_test_scaled)\n",
    "predictions = [round(value) for value in xgb_pred]\n",
    "accuracy = accuracy_score(y_test, xgb_pred)\n",
    "print(\"Accuracy: %.2f%%\" % (accuracy * 100.0))\n",
    "\n",
    "# Fit model using each importance as a threshold\n",
    "thresholds = sort(xgb.feature_importances_)\n",
    "for thresh in thresholds:\n",
    "    \n",
    "    # select features using threshold\n",
    "    selection = SelectFromModel(xgb, threshold=thresh, prefit=True)\n",
    "    select_X_train = selection.transform(x_train_scaled)\n",
    "    \n",
    "    # train model\n",
    "    selection_model = XGBClassifier()\n",
    "    selection_model.fit(select_X_train, y_train)\n",
    "    \n",
    "    # eval model\n",
    "    select_X_test = selection.transform(X_test_scaled)\n",
    "    xgb_pred = selection_model.predict(select_X_test)\n",
    "    predictions = [round(value) for value in xgb_pred]\n",
    "    accuracy = accuracy_score(y_test, xgb_pred)\n",
    "    print(\"Thresh=%.3f, n=%d, Accuracy: %.2f%%\" % (thresh, select_X_train.shape[1], accuracy*100.0))"
   ]
  },
  {
   "cell_type": "code",
   "execution_count": null,
   "id": "74331843",
   "metadata": {},
   "outputs": [],
   "source": [
    "xgb = XGBClassifier()\n",
    "logreg= LogisticRegressionCV(solver='lbfgs', cv=10)\n",
    "\n",
    "# prepare configuration for cross validation test harness\n",
    "seed = 7\n",
    "# prepare models\n",
    "models = []\n",
    "models.append(('LR', LogisticRegressionCV(solver='lbfgs', max_iter=5000, cv=10)))\n",
    "models.append(('XGB', XGBClassifier()))\n",
    "              \n",
    "# evaluate each model in turn\n",
    "results = []\n",
    "names = []\n",
    "scoring = 'accuracy'\n",
    "for name, model in models:\n",
    "    kfold = model_selection.KFold(n_splits=10, random_state=seed)\n",
    "    cv_results = model_selection.cross_val_score(model, a_train_scaled, y_train, cv=kfold, scoring=scoring)\n",
    "    results.append(cv_results)\n",
    "    names.append(name)\n",
    "    msg = \"%s: %f (%f)\" % (name, cv_results.mean(), cv_results.std())\n",
    "    print(msg)"
   ]
  },
  {
   "cell_type": "markdown",
   "id": "c91cb440",
   "metadata": {},
   "source": [
    "LR: 0.822500 (0.037417)\n",
    "XGB: 0.820000 (0.033166)"
   ]
  }
 ],
 "metadata": {
  "kernelspec": {
   "display_name": "Python 3 (ipykernel)",
   "language": "python",
   "name": "python3"
  },
  "language_info": {
   "codemirror_mode": {
    "name": "ipython",
    "version": 3
   },
   "file_extension": ".py",
   "mimetype": "text/x-python",
   "name": "python",
   "nbconvert_exporter": "python",
   "pygments_lexer": "ipython3",
   "version": "3.10.9"
  }
 },
 "nbformat": 4,
 "nbformat_minor": 5
}
