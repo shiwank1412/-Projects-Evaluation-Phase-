{
 "cells": [
  {
   "cell_type": "code",
   "execution_count": 2,
   "id": "f57a7351",
   "metadata": {},
   "outputs": [],
   "source": [
    "import pandas as pd \n",
    "import numpy as np \n",
    "import matplotlib.pyplot as plt \n",
    "import seaborn as sns \n"
   ]
  },
  {
   "cell_type": "code",
   "execution_count": null,
   "id": "a60700d4",
   "metadata": {},
   "outputs": [],
   "source": [
    "data = pd.read_csv(\"LoanApprovalPrediction.csv\") \n",
    "data.head(5)"
   ]
  },
  {
   "cell_type": "markdown",
   "id": "1104addc",
   "metadata": {},
   "source": [
    "\n",
    "Get the number of columns of object datatype."
   ]
  },
  {
   "cell_type": "code",
   "execution_count": null,
   "id": "265617a0",
   "metadata": {},
   "outputs": [],
   "source": [
    "obj = (data.dtypes == 'object') \n",
    "print(\"Categorical variables:\",len(list(obj[obj].index)))\n"
   ]
  },
  {
   "cell_type": "markdown",
   "id": "a7d681aa",
   "metadata": {},
   "source": [
    "Categorical variables: 7 "
   ]
  },
  {
   "cell_type": "markdown",
   "id": "69dfcd89",
   "metadata": {},
   "source": [
    "As Loan_ID is completely unique and not correlated with any of the other column, So we will drop it using .drop() function."
   ]
  },
  {
   "cell_type": "code",
   "execution_count": null,
   "id": "8c2153e8",
   "metadata": {},
   "outputs": [],
   "source": [
    "# Dropping Loan_ID column \n",
    "data.drop(['Loan_ID'],axis=1,inplace=True)\n"
   ]
  },
  {
   "cell_type": "markdown",
   "id": "3923880c",
   "metadata": {},
   "source": [
    "Visualize all the unique values in columns using barplot. This will simply show which value is dominating as per our dataset."
   ]
  },
  {
   "cell_type": "code",
   "execution_count": null,
   "id": "96e9beab",
   "metadata": {},
   "outputs": [],
   "source": [
    "obj = (data.dtypes == 'object') \n",
    "object_cols = list(obj[obj].index) \n",
    "plt.figure(figsize=(18,36)) \n",
    "index = 1\n",
    "\n",
    "for col in object_cols: \n",
    "y = data[col].value_counts() \n",
    "plt.subplot(11,4,index) \n",
    "plt.xticks(rotation=90) \n",
    "sns.barplot(x=list(y.index), y=y) \n",
    "index +=1\n"
   ]
  },
  {
   "cell_type": "markdown",
   "id": "b06f4157",
   "metadata": {},
   "source": [
    "As all the categorical values are binary so we can use Label Encoder for all \n",
    "such columns and the values will change into int datatype."
   ]
  },
  {
   "cell_type": "code",
   "execution_count": null,
   "id": "4056b3f2",
   "metadata": {},
   "outputs": [],
   "source": [
    "# Import label encoder \n",
    "from sklearn import preprocessing \n",
    "\t\n",
    "# label_encoder object knows how \n",
    "# to understand word labels. \n",
    "label_encoder = preprocessing.LabelEncoder() \n",
    "obj = (data.dtypes == 'object') \n",
    "for col in list(obj[obj].index): \n",
    "data[col] = label_encoder.fit_transform(data[col])\n"
   ]
  },
  {
   "cell_type": "markdown",
   "id": "1350f01f",
   "metadata": {},
   "source": [
    "Again check the object datatype columns. Let’s find out if there is still any left."
   ]
  },
  {
   "cell_type": "code",
   "execution_count": null,
   "id": "06d67f73",
   "metadata": {},
   "outputs": [],
   "source": [
    "# To find the number of columns with \n",
    "# datatype==object \n",
    "obj = (data.dtypes == 'object') \n",
    "print(\"Categorical variables:\",len(list(obj[obj].index)))\n"
   ]
  },
  {
   "cell_type": "markdown",
   "id": "cb5b1561",
   "metadata": {},
   "source": [
    "Categorical variables: 0"
   ]
  },
  {
   "cell_type": "code",
   "execution_count": null,
   "id": "71bb0462",
   "metadata": {},
   "outputs": [],
   "source": [
    "plt.figure(figsize=(12,6)) \n",
    "\n",
    "sns.heatmap(data.corr(),cmap='BrBG',fmt='.2f', \n",
    "     linewidths=2,annot=True)\n"
   ]
  },
  {
   "cell_type": "markdown",
   "id": "44575f85",
   "metadata": {},
   "source": [
    "Now we will use Catplot to visualize the plot for the Gender, and Marital Status of the applicant."
   ]
  },
  {
   "cell_type": "code",
   "execution_count": null,
   "id": "09e47fff",
   "metadata": {},
   "outputs": [],
   "source": [
    "sns.catplot(x=\"Gender\", y=\"Married\", \n",
    "hue=\"Loan_Status\", \n",
    "kind=\"bar\", \n",
    "data=data)\n"
   ]
  },
  {
   "cell_type": "markdown",
   "id": "f6b8ef7a",
   "metadata": {},
   "source": [
    "Now we will find out if there is any missing values in the dataset using below code."
   ]
  },
  {
   "cell_type": "code",
   "execution_count": null,
   "id": "a0ae30f1",
   "metadata": {},
   "outputs": [],
   "source": [
    "for col in data.columns: \n",
    "data[col] = data[col].fillna(data[col].mean()) \n",
    "data.isna().sum()\n"
   ]
  },
  {
   "cell_type": "raw",
   "id": "212e5465",
   "metadata": {},
   "source": [
    "Gender               0\n",
    "Married              0\n",
    "Dependents           0\n",
    "Education            0\n",
    "Self_Employed        0\n",
    "ApplicantIncome      0\n",
    "CoapplicantIncome    0\n",
    "LoanAmount           0\n",
    "Loan_Amount_Term     0\n",
    "Credit_History       0\n",
    "Property_Area        0\n",
    "Loan_Status          0"
   ]
  },
  {
   "cell_type": "markdown",
   "id": "4cbace32",
   "metadata": {},
   "source": [
    "# Splitting Dataset "
   ]
  },
  {
   "cell_type": "code",
   "execution_count": null,
   "id": "543d5f1d",
   "metadata": {},
   "outputs": [],
   "source": [
    "from sklearn.model_selection import train_test_split \n",
    "\n",
    "X = data.drop(['Loan_Status'],axis=1) \n",
    "Y = data['Loan_Status'] \n",
    "X.shape,Y.shape \n",
    "\n",
    "X_train, X_test, Y_train, Y_test = train_test_split(X, Y, \n",
    "test_size=0.4, \n",
    "random_state=1) \n",
    "X_train.shape, X_test.shape, Y_train.shape, Y_test.shape\n"
   ]
  },
  {
   "cell_type": "markdown",
   "id": "902aebfa",
   "metadata": {},
   "source": [
    "((598, 11), (598,))\n",
    "((358, 11), (240, 11), (358,), (240,))"
   ]
  },
  {
   "cell_type": "code",
   "execution_count": null,
   "id": "fe5f69f5",
   "metadata": {},
   "outputs": [],
   "source": [
    "from sklearn.neighbors import KNeighborsClassifier \n",
    "from sklearn.ensemble import RandomForestClassifier \n",
    "from sklearn.svm import SVC \n",
    "from sklearn.linear_model import LogisticRegression \n",
    "\n",
    "from sklearn import metrics \n",
    "\n",
    "knn = KNeighborsClassifier(n_neighbors=3) \n",
    "rfc = RandomForestClassifier(n_estimators = 7, \n",
    "criterion = 'entropy', \n",
    "random_state =7) \n",
    "svc = SVC() \n",
    "lc = LogisticRegression() \n",
    "\n",
    "# making predictions on the training set \n",
    "for clf in (rfc, knn, svc,lc): \n",
    "clf.fit(X_train, Y_train) \n",
    "Y_pred = clf.predict(X_train) \n",
    "print(\"Accuracy score of \", \n",
    "clf.__class__.__name__, \n",
    "\"=\",100*metrics.accuracy_score(Y_train, \n",
    "Y_pred))\n"
   ]
  },
  {
   "cell_type": "markdown",
   "id": "25d92b44",
   "metadata": {},
   "source": [
    "Accuracy score of  RandomForestClassifier = 82.5\n",
    "\n",
    "Accuracy score of  KNeighborsClassifier = 63.74999999999999\n",
    "\n",
    "Accuracy score of  SVC = 69.16666666666667\n",
    "\n",
    "Accuracy score of  LogisticRegression = 80.83333333333333"
   ]
  }
 ],
 "metadata": {
  "kernelspec": {
   "display_name": "Python 3 (ipykernel)",
   "language": "python",
   "name": "python3"
  },
  "language_info": {
   "codemirror_mode": {
    "name": "ipython",
    "version": 3
   },
   "file_extension": ".py",
   "mimetype": "text/x-python",
   "name": "python",
   "nbconvert_exporter": "python",
   "pygments_lexer": "ipython3",
   "version": "3.10.9"
  }
 },
 "nbformat": 4,
 "nbformat_minor": 5
}
