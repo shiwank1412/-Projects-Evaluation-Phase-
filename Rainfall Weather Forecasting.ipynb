{
 "cells": [
  {
   "cell_type": "code",
   "execution_count": null,
   "id": "18d6a4db",
   "metadata": {},
   "outputs": [],
   "source": [
    "import numpy as np\n",
    "import pandas as pd\n",
    "import matplotlib.pyplot as plt\n",
    "import seaborn as sb\n",
    "\n",
    "from sklearn.model_selection import train_test_split\n",
    "from sklearn.preprocessing import StandardScaler\n",
    "from sklearn import metrics\n",
    "from sklearn.svm import SVC\n",
    "from xgboost import XGBClassifier\n",
    "from sklearn.linear_model import LogisticRegression\n",
    "from imblearn.over_sampling import RandomOverSampler\n",
    "\n",
    "import warnings\n",
    "warnings.filterwarnings('ignore')\n"
   ]
  },
  {
   "cell_type": "code",
   "execution_count": null,
   "id": "271184cf",
   "metadata": {},
   "outputs": [],
   "source": [
    "df = pd.read_csv('Rainfall.csv')\n",
    "df.head()"
   ]
  },
  {
   "cell_type": "code",
   "execution_count": null,
   "id": "ac81bdbb",
   "metadata": {},
   "outputs": [],
   "source": [
    "df.shape"
   ]
  },
  {
   "cell_type": "markdown",
   "id": "f77cae19",
   "metadata": {},
   "source": [
    "(366, 12)"
   ]
  },
  {
   "cell_type": "code",
   "execution_count": null,
   "id": "5799cdb5",
   "metadata": {},
   "outputs": [],
   "source": [
    "df.info()"
   ]
  },
  {
   "cell_type": "code",
   "execution_count": null,
   "id": "801a7b50",
   "metadata": {},
   "outputs": [],
   "source": [
    "df.describe().T"
   ]
  },
  {
   "cell_type": "code",
   "execution_count": null,
   "id": "d85b4825",
   "metadata": {},
   "outputs": [],
   "source": [
    "df.isnull().sum()"
   ]
  },
  {
   "cell_type": "code",
   "execution_count": null,
   "id": "89d94f77",
   "metadata": {},
   "outputs": [],
   "source": [
    "df.columns"
   ]
  },
  {
   "cell_type": "raw",
   "id": "69b08aab",
   "metadata": {},
   "source": [
    "Index(['day', 'pressure ', 'maxtemp', 'temperature', 'mintemp', 'dewpoint',\n",
    "       'humidity ', 'cloud ', 'rainfall', 'sunshine', '         winddirection',\n",
    "       'windspeed'],\n",
    "      dtype='object')"
   ]
  },
  {
   "cell_type": "code",
   "execution_count": null,
   "id": "7dea4752",
   "metadata": {},
   "outputs": [],
   "source": [
    "df.rename(str.strip,\n",
    "axis='columns', \n",
    "inplace=True)\n",
    "\n",
    "df.columns\n"
   ]
  },
  {
   "cell_type": "raw",
   "id": "3cdff84d",
   "metadata": {},
   "source": [
    "Index(['day', 'pressure', 'maxtemp', 'temperature', 'mintemp', 'dewpoint',\n",
    "       'humidity', 'cloud', 'rainfall', 'sunshine', 'winddirection',\n",
    "       'windspeed'],\n",
    "      dtype='object')"
   ]
  },
  {
   "cell_type": "code",
   "execution_count": null,
   "id": "1ffdb987",
   "metadata": {},
   "outputs": [],
   "source": [
    "for col in df.columns:\n",
    "\n",
    "# Checking if the column contains\n",
    "# any null values\n",
    "if df[col].isnull().sum() > 0:\n",
    "val = df[col].mean()\n",
    "df[col] = df[col].fillna(val)\n",
    "\n",
    "df.isnull().sum().sum()\n"
   ]
  },
  {
   "cell_type": "markdown",
   "id": "c717a19c",
   "metadata": {},
   "source": [
    "0"
   ]
  },
  {
   "cell_type": "code",
   "execution_count": null,
   "id": "2c598bac",
   "metadata": {},
   "outputs": [],
   "source": [
    "plt.pie(df['rainfall'].value_counts().values,\n",
    "labels = df['rainfall'].value_counts().index,\n",
    "autopct='%1.1f%%')\n",
    "plt.show()\n"
   ]
  },
  {
   "cell_type": "code",
   "execution_count": null,
   "id": "efc250ee",
   "metadata": {},
   "outputs": [],
   "source": [
    "df.groupby('rainfall').mean()"
   ]
  },
  {
   "cell_type": "code",
   "execution_count": null,
   "id": "67db215a",
   "metadata": {},
   "outputs": [],
   "source": [
    "features = list(df.select_dtypes(include = np.number).columns)\n",
    "features.remove('day')\n",
    "print(features)\n"
   ]
  },
  {
   "cell_type": "markdown",
   "id": "f1d4c41e",
   "metadata": {},
   "source": [
    "['pressure', 'maxtemp', 'temperature', 'mintemp', 'dewpoint', 'humidity', 'cloud', 'sunshine', 'winddirection', 'windspeed']"
   ]
  },
  {
   "cell_type": "code",
   "execution_count": null,
   "id": "14d8cb86",
   "metadata": {},
   "outputs": [],
   "source": [
    "plt.subplots(figsize=(15,8))\n",
    "\n",
    "for i, col in enumerate(features):\n",
    "plt.subplot(3,4, i + 1)\n",
    "sb.distplot(df[col])\n",
    "plt.tight_layout()\n",
    "plt.show()\n"
   ]
  },
  {
   "cell_type": "code",
   "execution_count": null,
   "id": "d954ebfc",
   "metadata": {},
   "outputs": [],
   "source": [
    "plt.subplots(figsize=(15,8))\n",
    "\n",
    "for i, col in enumerate(features):\n",
    "plt.subplot(3,4, i + 1)\n",
    "sb.boxplot(df[col])\n",
    "plt.tight_layout()\n",
    "plt.show()\n"
   ]
  },
  {
   "cell_type": "code",
   "execution_count": null,
   "id": "00cd1bf5",
   "metadata": {},
   "outputs": [],
   "source": [
    "df.replace({'yes':1, 'no':0}, inplace=True)"
   ]
  },
  {
   "cell_type": "code",
   "execution_count": null,
   "id": "2043da5d",
   "metadata": {},
   "outputs": [],
   "source": [
    "plt.figure(figsize=(10,10))\n",
    "sb.heatmap(df.corr() > 0.8,\n",
    "annot=True,\n",
    "cbar=False)\n",
    "plt.show()\n"
   ]
  },
  {
   "cell_type": "code",
   "execution_count": null,
   "id": "007624f2",
   "metadata": {},
   "outputs": [],
   "source": [
    "df.drop(['maxtemp', 'mintemp'], axis=1, inplace=True)"
   ]
  },
  {
   "cell_type": "code",
   "execution_count": null,
   "id": "daaf5fbb",
   "metadata": {},
   "outputs": [],
   "source": [
    "features = df.drop(['day', 'rainfall'], axis=1)\n",
    "target = df.rainfall"
   ]
  },
  {
   "cell_type": "code",
   "execution_count": null,
   "id": "a24b505d",
   "metadata": {},
   "outputs": [],
   "source": [
    "X_train, X_val, \\\n",
    "Y_train, Y_val = train_test_split(features,\n",
    "target,\n",
    "test_size=0.2,\n",
    "stratify=target,\n",
    "random_state=2)\n",
    "\n",
    "# As the data was highly imbalanced we will\n",
    "# balance it by adding repetitive rows of minority class.\n",
    "ros = RandomOverSampler(sampling_strategy='minority',\n",
    "random_state=22)\n",
    "X, Y = ros.fit_resample(X_train, Y_train)\n"
   ]
  },
  {
   "cell_type": "code",
   "execution_count": null,
   "id": "c58b1ab7",
   "metadata": {},
   "outputs": [],
   "source": [
    "# Normalizing the features for stable and fast training.\n",
    "scaler = StandardScaler()\n",
    "X = scaler.fit_transform(X)\n",
    "X_val = scaler.transform(X_val)\n"
   ]
  },
  {
   "cell_type": "code",
   "execution_count": null,
   "id": "00acc3f4",
   "metadata": {},
   "outputs": [],
   "source": [
    "models = [LogisticRegression(), XGBClassifier(), SVC(kernel='rbf', probability=True)]\n",
    "\n",
    "for i in range(3):\n",
    "models[i].fit(X, Y)\n",
    "\n",
    "print(f'{models[i]} : ')\n",
    "\n",
    "train_preds = models[i].predict_proba(X) \n",
    "print('Training Accuracy : ', metrics.roc_auc_score(Y, train_preds[:,1]))\n",
    "\n",
    "val_preds = models[i].predict_proba(X_val) \n",
    "print('Validation Accuracy : ', metrics.roc_auc_score(Y_val, val_preds[:,1]))\n",
    "print()\n"
   ]
  },
  {
   "cell_type": "raw",
   "id": "855679e0",
   "metadata": {},
   "source": [
    "LogisticRegression() : \n",
    "Training Accuracy :  0.8893967324057472\n",
    "Validation Accuracy :  0.8966666666666667\n",
    "\n",
    "XGBClassifier() : \n",
    "Training Accuracy :  0.9903285270573975\n",
    "Validation Accuracy :  0.8408333333333333\n",
    "\n",
    "SVC(probability=True) : \n",
    "Training Accuracy :  0.9026413474407211\n",
    "Validation Accuracy :  0.8858333333333333"
   ]
  },
  {
   "cell_type": "code",
   "execution_count": null,
   "id": "63bfb4e7",
   "metadata": {},
   "outputs": [],
   "source": [
    "metrics.plot_confusion_matrix(models[2], X_val, Y_val)\n",
    "plt.show()"
   ]
  },
  {
   "cell_type": "code",
   "execution_count": null,
   "id": "d2a4ccef",
   "metadata": {},
   "outputs": [],
   "source": [
    "print(metrics.classification_report(Y_val,\n",
    "models[2].predict(X_val)))\n"
   ]
  }
 ],
 "metadata": {
  "kernelspec": {
   "display_name": "Python 3 (ipykernel)",
   "language": "python",
   "name": "python3"
  },
  "language_info": {
   "codemirror_mode": {
    "name": "ipython",
    "version": 3
   },
   "file_extension": ".py",
   "mimetype": "text/x-python",
   "name": "python",
   "nbconvert_exporter": "python",
   "pygments_lexer": "ipython3",
   "version": "3.10.9"
  }
 },
 "nbformat": 4,
 "nbformat_minor": 5
}
